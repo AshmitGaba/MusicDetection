{
 "cells": [
  {
   "cell_type": "markdown",
   "metadata": {
    "id": "jAsekFWe4-f_"
   },
   "source": [
    "## **Installs + Drive Mount**"
   ]
  },
  {
   "cell_type": "code",
   "execution_count": 2,
   "metadata": {
    "colab": {
     "base_uri": "https://localhost:8080/"
    },
    "id": "5Xl3WUOHQofy",
    "outputId": "7c5b43dc-ef00-4b50-cde1-67b3fdad6c63",
    "scrolled": true
   },
   "outputs": [
    {
     "name": "stdout",
     "output_type": "stream",
     "text": [
      "Requirement already satisfied: librosa in /Users/shriyanssairy/anaconda3/lib/python3.10/site-packages (0.10.0.post2)\n",
      "Requirement already satisfied: numpy in /Users/shriyanssairy/anaconda3/lib/python3.10/site-packages (1.23.5)\n",
      "Requirement already satisfied: msgpack>=1.0 in /Users/shriyanssairy/anaconda3/lib/python3.10/site-packages (from librosa) (1.0.3)\n",
      "Requirement already satisfied: soxr>=0.3.2 in /Users/shriyanssairy/anaconda3/lib/python3.10/site-packages (from librosa) (0.3.5)\n",
      "Requirement already satisfied: pooch<1.7,>=1.0 in /Users/shriyanssairy/anaconda3/lib/python3.10/site-packages (from librosa) (1.4.0)\n",
      "Requirement already satisfied: numba>=0.51.0 in /Users/shriyanssairy/anaconda3/lib/python3.10/site-packages (from librosa) (0.56.4)\n",
      "Requirement already satisfied: decorator>=4.3.0 in /Users/shriyanssairy/anaconda3/lib/python3.10/site-packages (from librosa) (5.1.1)\n",
      "Requirement already satisfied: soundfile>=0.12.1 in /Users/shriyanssairy/anaconda3/lib/python3.10/site-packages (from librosa) (0.12.1)\n",
      "Requirement already satisfied: typing-extensions>=4.1.1 in /Users/shriyanssairy/anaconda3/lib/python3.10/site-packages (from librosa) (4.4.0)\n",
      "Requirement already satisfied: scikit-learn>=0.20.0 in /Users/shriyanssairy/anaconda3/lib/python3.10/site-packages (from librosa) (1.2.1)\n",
      "Requirement already satisfied: scipy>=1.2.0 in /Users/shriyanssairy/anaconda3/lib/python3.10/site-packages (from librosa) (1.10.0)\n",
      "Requirement already satisfied: joblib>=0.14 in /Users/shriyanssairy/anaconda3/lib/python3.10/site-packages (from librosa) (1.1.1)\n",
      "Requirement already satisfied: lazy-loader>=0.1 in /Users/shriyanssairy/anaconda3/lib/python3.10/site-packages (from librosa) (0.2)\n",
      "Requirement already satisfied: audioread>=2.1.9 in /Users/shriyanssairy/anaconda3/lib/python3.10/site-packages (from librosa) (3.0.0)\n",
      "Requirement already satisfied: setuptools in /Users/shriyanssairy/anaconda3/lib/python3.10/site-packages (from numba>=0.51.0->librosa) (65.6.3)\n",
      "Requirement already satisfied: llvmlite<0.40,>=0.39.0dev0 in /Users/shriyanssairy/anaconda3/lib/python3.10/site-packages (from numba>=0.51.0->librosa) (0.39.1)\n",
      "Requirement already satisfied: packaging in /Users/shriyanssairy/anaconda3/lib/python3.10/site-packages (from pooch<1.7,>=1.0->librosa) (22.0)\n",
      "Requirement already satisfied: appdirs in /Users/shriyanssairy/anaconda3/lib/python3.10/site-packages (from pooch<1.7,>=1.0->librosa) (1.4.4)\n",
      "Requirement already satisfied: requests in /Users/shriyanssairy/anaconda3/lib/python3.10/site-packages (from pooch<1.7,>=1.0->librosa) (2.28.1)\n",
      "Requirement already satisfied: threadpoolctl>=2.0.0 in /Users/shriyanssairy/anaconda3/lib/python3.10/site-packages (from scikit-learn>=0.20.0->librosa) (2.2.0)\n",
      "Requirement already satisfied: cffi>=1.0 in /Users/shriyanssairy/anaconda3/lib/python3.10/site-packages (from soundfile>=0.12.1->librosa) (1.15.1)\n",
      "Requirement already satisfied: pycparser in /Users/shriyanssairy/anaconda3/lib/python3.10/site-packages (from cffi>=1.0->soundfile>=0.12.1->librosa) (2.21)\n",
      "Requirement already satisfied: urllib3<1.27,>=1.21.1 in /Users/shriyanssairy/anaconda3/lib/python3.10/site-packages (from requests->pooch<1.7,>=1.0->librosa) (1.26.14)\n",
      "Requirement already satisfied: charset-normalizer<3,>=2 in /Users/shriyanssairy/anaconda3/lib/python3.10/site-packages (from requests->pooch<1.7,>=1.0->librosa) (2.0.4)\n",
      "Requirement already satisfied: idna<4,>=2.5 in /Users/shriyanssairy/anaconda3/lib/python3.10/site-packages (from requests->pooch<1.7,>=1.0->librosa) (3.4)\n",
      "Requirement already satisfied: certifi>=2017.4.17 in /Users/shriyanssairy/anaconda3/lib/python3.10/site-packages (from requests->pooch<1.7,>=1.0->librosa) (2023.5.7)\n",
      "Requirement already satisfied: pytube in /Users/shriyanssairy/anaconda3/lib/python3.10/site-packages (15.0.0)\n",
      "Requirement already satisfied: matplotlib in /Users/shriyanssairy/anaconda3/lib/python3.10/site-packages (3.7.2)\n",
      "Requirement already satisfied: packaging>=20.0 in /Users/shriyanssairy/anaconda3/lib/python3.10/site-packages (from matplotlib) (22.0)\n",
      "Requirement already satisfied: python-dateutil>=2.7 in /Users/shriyanssairy/anaconda3/lib/python3.10/site-packages (from matplotlib) (2.8.2)\n",
      "Requirement already satisfied: contourpy>=1.0.1 in /Users/shriyanssairy/anaconda3/lib/python3.10/site-packages (from matplotlib) (1.0.5)\n",
      "Requirement already satisfied: cycler>=0.10 in /Users/shriyanssairy/anaconda3/lib/python3.10/site-packages (from matplotlib) (0.11.0)\n",
      "Requirement already satisfied: numpy>=1.20 in /Users/shriyanssairy/anaconda3/lib/python3.10/site-packages (from matplotlib) (1.23.5)\n",
      "Requirement already satisfied: pillow>=6.2.0 in /Users/shriyanssairy/anaconda3/lib/python3.10/site-packages (from matplotlib) (9.4.0)\n",
      "Requirement already satisfied: fonttools>=4.22.0 in /Users/shriyanssairy/anaconda3/lib/python3.10/site-packages (from matplotlib) (4.25.0)\n",
      "Requirement already satisfied: pyparsing<3.1,>=2.3.1 in /Users/shriyanssairy/anaconda3/lib/python3.10/site-packages (from matplotlib) (3.0.9)\n",
      "Requirement already satisfied: kiwisolver>=1.0.1 in /Users/shriyanssairy/anaconda3/lib/python3.10/site-packages (from matplotlib) (1.4.4)\n",
      "Requirement already satisfied: six>=1.5 in /Users/shriyanssairy/anaconda3/lib/python3.10/site-packages (from python-dateutil>=2.7->matplotlib) (1.16.0)\n"
     ]
    }
   ],
   "source": [
    "!pip install librosa numpy\n",
    "!pip install pytube\n",
    "!pip install matplotlib --upgrade"
   ]
  },
  {
   "cell_type": "code",
   "execution_count": 2,
   "metadata": {
    "colab": {
     "base_uri": "https://localhost:8080/"
    },
    "id": "f-owea1Rtdsg",
    "outputId": "f8174976-7ebc-49cd-c7fa-6781d5be6010"
   },
   "outputs": [
    {
     "name": "stdout",
     "output_type": "stream",
     "text": [
      "Drive already mounted at /content/drive; to attempt to forcibly remount, call drive.mount(\"/content/drive\", force_remount=True).\n"
     ]
    }
   ],
   "source": [
    "# Mount Google Drive\n",
    "from google.colab import drive\n",
    "drive.mount('/content/drive')"
   ]
  },
  {
   "cell_type": "markdown",
   "metadata": {
    "id": "dX5c_AanRXcC"
   },
   "source": [
    "# **Function Definitions**"
   ]
  },
  {
   "cell_type": "code",
   "execution_count": 3,
   "metadata": {
    "id": "S68s233ERV2z"
   },
   "outputs": [
    {
     "name": "stderr",
     "output_type": "stream",
     "text": [
      "/Users/shriyanssairy/anaconda3/lib/python3.10/site-packages/tqdm/auto.py:22: TqdmWarning: IProgress not found. Please update jupyter and ipywidgets. See https://ipywidgets.readthedocs.io/en/stable/user_install.html\n",
      "  from .autonotebook import tqdm as notebook_tqdm\n",
      "/Users/shriyanssairy/anaconda3/lib/python3.10/site-packages/torchvision/io/image.py:13: UserWarning: Failed to load image Python extension: 'dlopen(/Users/shriyanssairy/anaconda3/lib/python3.10/site-packages/torchvision/image.so, 0x0006): Symbol not found: __ZN3c106detail19maybe_wrap_dim_slowIxEET_S2_S2_b\n",
      "  Referenced from: <9A4710B9-0DA3-36BB-9129-645F282E64B2> /Users/shriyanssairy/anaconda3/lib/python3.10/site-packages/torchvision/image.so\n",
      "  Expected in:     <DB251723-D0A7-3D18-91AD-79131BDBDDBC> /Users/shriyanssairy/anaconda3/lib/python3.10/site-packages/torch/lib/libc10.dylib'If you don't plan on using image functionality from `torchvision.io`, you can ignore this warning. Otherwise, there might be something wrong with your environment. Did you have `libjpeg` or `libpng` installed before building `torchvision` from source?\n",
      "  warn(\n"
     ]
    }
   ],
   "source": [
    "# importing packages\n",
    "import librosa\n",
    "import matplotlib.pyplot as plt\n",
    "import librosa.display\n",
    "import numpy as np\n",
    "from pytube import YouTube\n",
    "import os\n",
    "from PIL import Image\n",
    "import torch\n",
    "import torch.nn as nn\n",
    "from torchvision import transforms, models\n",
    "from torchvision.datasets import ImageFolder\n",
    "from torch.utils.data import DataLoader\n",
    "import time\n",
    "import glob\n",
    "\n",
    "class AI_Detection_Model(nn.Module):\n",
    "    def __init__(self, num_classes, num_layers, pretrained=True):\n",
    "        super(AI_Detection_Model, self).__init__()\n",
    "        if num_layers == 18:\n",
    "            self.resnet = models.resnet18(weights='ResNet18_Weights.IMAGENET1K_V1')\n",
    "        elif num_layers == 34:\n",
    "            self.resnet = models.resnet34(weights='ResNet34_Weights.IMAGENET1K_V1')\n",
    "        elif num_layers == 50:\n",
    "            self.resnet = models.resnet50(weights='ResNet50_Weights.IMAGENET1K_V1')\n",
    "            \n",
    "        self.resnet.fc = nn.Linear(self.resnet.fc.in_features, num_classes)\n",
    "\n",
    "    def forward(self, x):\n",
    "        x = self.resnet(x)\n",
    "        return x\n",
    "\n",
    "def crop_image(file):\n",
    "    # Opens a image in RGB mode\n",
    "    im = Image.open(file)\n",
    "\n",
    "    # Size of the image in pixels (size of original image)\n",
    "    # (This is not mandatory)\n",
    "    width, height = im.size\n",
    "\n",
    "    # Setting the points for cropped image\n",
    "    left = 0\n",
    "    top = height // 9\n",
    "    right = width\n",
    "    bottom = height\n",
    "\n",
    "    # Cropped image of above dimension\n",
    "    # (It will not change original image)\n",
    "    im1 = im.crop((left, top, right, bottom))\n",
    "\n",
    "    # Shows the image in image viewer\n",
    "    im1 = im1.save(file)\n",
    "\n",
    "# Function to convert audio file to spectrogram image and save as JPEG\n",
    "def audio_to_spectrogram(audio_file, output_file):\n",
    "    # Load the audio file\n",
    "    audio, sr = librosa.load(audio_file, duration=30.0)  # Specify duration of 30 seconds\n",
    "\n",
    "    # Create a spectrogram image\n",
    "    D = librosa.amplitude_to_db(np.abs(librosa.stft(audio)), ref=np.max)\n",
    "    plt.figure(figsize=(10, 4))\n",
    "    librosa.display.specshow(D, sr=sr, x_axis='time', y_axis='log')\n",
    "    plt.colorbar(format='%+2.0f dB')\n",
    "\n",
    "    # Save the spectrogram as a JPEG image\n",
    "    plt.savefig(output_file, format='jpg')\n",
    "\n",
    "    # Close the plot\n",
    "    plt.close()\n",
    "    \n",
    "    crop_image(output_file)\n",
    "\n",
    "\n",
    "def vid_to_mp3(link, destination) :\n",
    "    # url input from user\n",
    "    yt = YouTube(link)\n",
    "\n",
    "    # extract only audio\n",
    "    video = yt.streams.filter(only_audio=True).first()\n",
    "\n",
    "    # download the file\n",
    "    name = yt.author + ' - ' + yt.title\n",
    "    out_file = video.download(output_path=destination, filename=name)\n",
    "\n",
    "    # save the file\n",
    "    base, ext = os.path.splitext(out_file)\n",
    "    new_file = base + '.mp3'\n",
    "    os.rename(out_file, new_file)\n",
    "\n",
    "    # result of success\n",
    "\n",
    "    return new_file, name\n",
    "\n",
    "# Define the function for testing a single image\n",
    "def test_single_image(image_path, transform):\n",
    "    # Load and preprocess the image\n",
    "    image = Image.open(image_path)\n",
    "\n",
    "    input_image = transform(image)\n",
    "\n",
    "    # Prepare the input tensor\n",
    "    input_tensor = input_image.unsqueeze(0)  # Add an extra dimension to represent the batch (batch_size=1)\n",
    "\n",
    "    # Move the image to the device\n",
    "    device = torch.device('cuda' if torch.cuda.is_available() else 'cpu')\n",
    "    input_tensor = input_tensor.to(device)\n",
    "\n",
    "    model.eval()\n",
    "\n",
    "    # Forward pass the input through the model\n",
    "    output = model(input_tensor)\n",
    "\n",
    "    # Interpret the output\n",
    "    probabilities = torch.softmax(output, dim=1)\n",
    "\n",
    "    # Extract the predicted class\n",
    "    _, predicted_class = torch.max(probabilities, 1)\n",
    "\n",
    "    return \"AI Music\" if predicted_class.item() == 0 else 'Real Music'\n",
    "\n",
    "# Define transformations for the input images\n",
    "transform = transforms.Compose([\n",
    "#     transforms.Resize((1000, 400)),\n",
    "#     transforms.ToTensor()\n",
    "    transforms.Resize((560, 224)),\n",
    "    transforms.ToTensor(),\n",
    "#     transforms.Normalize([0.485, 0.456, 0.406], [0.229, 0.224, 0.225])\n",
    "])\n"
   ]
  },
  {
   "cell_type": "markdown",
   "metadata": {
    "id": "oxILl2w24xjr"
   },
   "source": [
    "# **Download MP3**"
   ]
  },
  {
   "cell_type": "code",
   "execution_count": 40,
   "metadata": {
    "colab": {
     "base_uri": "https://localhost:8080/"
    },
    "id": "2SXHiOUbRn7R",
    "outputId": "f277d325-fe4e-4896-bbdb-bee01905ea29"
   },
   "outputs": [
    {
     "name": "stdout",
     "output_type": "stream",
     "text": [
      "/content/drive/MyDrive/Separate Images/Test MP3s/ARTZI - See You Again - Juice WRLD Ai  & xxxtentacion Ai.mp3 has successfully downloaded\n"
     ]
    }
   ],
   "source": [
    "output = vid_to_mp3('https://youtu.be/q6ISROYswBQ', '/content/drive/MyDrive/Separate Images/Test MP3s')\n",
    "\n",
    "print(output[0],\"has successfully downloaded\")\n"
   ]
  },
  {
   "cell_type": "code",
   "execution_count": 34,
   "metadata": {
    "colab": {
     "base_uri": "https://localhost:8080/"
    },
    "id": "xH89CSbHQmtV",
    "outputId": "9ed928b5-f2f7-4bca-d454-7ed64c444d08"
   },
   "outputs": [
    {
     "name": "stdout",
     "output_type": "stream",
     "text": [
      "Saved /content/drive/MyDrive/Separate Images/MP3s/ARTZI - See You Again - Juice WRLD Ai  & xxxtentacion Ai.mp3\n",
      "\n",
      "/content/drive/MyDrive/mihirs music images/AI Images/spectrogram_ARTZI - See You Again - Juice WRLD Ai  & xxxtentacion Ai.jpg\n"
     ]
    }
   ],
   "source": [
    "\n",
    "link = 'https://youtu.be/q6ISROYswBQ'\n",
    "mp3_output_folder = '/content/drive/MyDrive/Separate Images/MP3s'\n",
    "\n",
    "mp3_path, song_name = vid_to_mp3(link, mp3_output_folder)\n",
    "print(\"Saved\",mp3_path)\n",
    "\n",
    "label = 'AI'\n",
    "image_path1 = f'/content/drive/MyDrive/mihirs music images/{label} Images/spectrogram_{song_name}.jpg'\n",
    "image_path2 = f'/content/drive/MyDrive/Separate Images/Images/{song_name}.jpg'\n",
    "\n",
    "audio_to_spectrogram('/content/drive/MyDrive/Separate Images/MP3s/The Weeknd - Out of Time (Audio).mp3', image_path1)\n",
    "\n",
    "print('\\n' + image_path1)\n",
    "\n",
    "\n"
   ]
  },
  {
   "cell_type": "code",
   "execution_count": 26,
   "metadata": {
    "id": "toRbzJUIi2Ot"
   },
   "outputs": [],
   "source": [
    "import os\n",
    "\n",
    "os.remove(image_path1)"
   ]
  },
  {
   "cell_type": "markdown",
   "metadata": {
    "id": "pSs7zXV95Izk"
   },
   "source": [
    "# **Convert All MP3s to Spectrograms**"
   ]
  },
  {
   "cell_type": "code",
   "execution_count": 4,
   "metadata": {
    "colab": {
     "base_uri": "https://localhost:8080/"
    },
    "id": "WhtsThJEvLgX",
    "outputId": "3a7297ab-04a8-406f-d792-1f90e240d614"
   },
   "outputs": [],
   "source": [
    "# Folder path containing subfolders with audio files\n",
    "audio_folder_path = '/Users/shriyanssairy/Desktop/Test MP3s'\n",
    "\n",
    "# New folder path for storing the spectrogram images and features\n",
    "image_folder_path = '/Users/shriyanssairy/Desktop/Test Images'\n",
    "\n",
    "# Create subfolders for storing AI and Real spectrogram images and features\n",
    "ai_folder = os.path.join(image_folder_path, 'AI Images')\n",
    "real_folder = os.path.join(image_folder_path, 'Real Images')\n",
    "\n",
    "\n",
    "os.makedirs(ai_folder, exist_ok=True)\n",
    "os.makedirs(real_folder, exist_ok=True)\n",
    "\n",
    "\n",
    "# Parameters\n",
    "image_size = (224, 224)  # Size of the resized spectrogram image\n",
    "\n",
    "# Helper function to resize the image\n",
    "def resize_image(image, size):\n",
    "    pil_image = Image.fromarray(image)\n",
    "    resized_image = pil_image.resize(size)\n",
    "    return np.array(resized_image)\n",
    "\n",
    "# Iterate through subfolders in the audio folder\n",
    "for subfolder in os.listdir(audio_folder_path):\n",
    "    subfolder_path = os.path.join(audio_folder_path, subfolder)\n",
    "\n",
    "    if os.path.isdir(subfolder_path):\n",
    "        # Determine the target folder for storing spectrogram images and features\n",
    "        if subfolder == 'AI Music':\n",
    "            target_folder = ai_folder\n",
    "        elif subfolder == 'Real Music':\n",
    "            target_folder = real_folder\n",
    "        else:\n",
    "            continue  # Skip subfolders not labeled as AI Music or Real Music\n",
    "\n",
    "        # Process audio files in the subfolder\n",
    "        audio_files = glob.glob(os.path.join(subfolder_path, '*.mp3'))\n",
    "\n",
    "        for audio_file in audio_files:\n",
    "            # Extract the audio file name without the extension\n",
    "            audio_filename = os.path.splitext(os.path.basename(audio_file))[0]\n",
    "\n",
    "            spectrogram_save_path = os.path.join(target_folder, 'spectrogram_{}.jpg'.format(audio_filename))\n",
    "            audio_to_spectrogram(audio_file, spectrogram_save_path)"
   ]
  },
  {
   "cell_type": "markdown",
   "metadata": {
    "id": "53l_4vtf4Tn0"
   },
   "source": [
    "# **Train New Model**"
   ]
  },
  {
   "cell_type": "code",
   "execution_count": 8,
   "metadata": {
    "colab": {
     "base_uri": "https://localhost:8080/"
    },
    "id": "Nee4FiBXOrZl",
    "outputId": "622043ab-a37d-4bfd-cfe1-6950ce9b373c",
    "scrolled": false
   },
   "outputs": [
    {
     "name": "stdout",
     "output_type": "stream",
     "text": [
      "221\n",
      "Epoch 1/200 - Loss: 0.0324 - Accuracy: 0.9910 - ET: 0h 0m 8s\n",
      "Epoch 2/200 - Loss: 0.0146 - Accuracy: 0.9955 - ET: 0h 0m 7s\n",
      "Epoch 3/200 - Loss: 0.0122 - Accuracy: 0.9955 - ET: 0h 0m 7s\n",
      "Epoch 4/200 - Loss: 0.0095 - Accuracy: 0.9955 - ET: 0h 0m 7s\n",
      "Epoch 5/200 - Loss: 0.0126 - Accuracy: 0.9955 - ET: 0h 0m 7s\n",
      "Epoch 6/200 - Loss: 0.0101 - Accuracy: 0.9955 - ET: 0h 0m 7s\n",
      "Epoch 7/200 - Loss: 0.0993 - Accuracy: 0.9819 - ET: 0h 0m 7s\n",
      "Epoch 8/200 - Loss: 0.0568 - Accuracy: 0.9774 - ET: 0h 0m 8s\n",
      "Epoch 9/200 - Loss: 0.0360 - Accuracy: 0.9774 - ET: 0h 0m 8s\n",
      "Epoch 10/200 - Loss: 0.0164 - Accuracy: 0.9910 - ET: 0h 0m 7s\n",
      "Epoch 11/200 - Loss: 0.0123 - Accuracy: 0.9955 - ET: 0h 0m 7s\n",
      "Epoch 12/200 - Loss: 0.0117 - Accuracy: 0.9955 - ET: 0h 0m 7s\n",
      "Epoch 13/200 - Loss: 0.0102 - Accuracy: 0.9955 - ET: 0h 0m 7s\n",
      "Epoch 14/200 - Loss: 0.0105 - Accuracy: 0.9955 - ET: 0h 0m 7s\n",
      "Epoch 15/200 - Loss: 0.0106 - Accuracy: 0.9955 - ET: 0h 0m 7s\n",
      "Epoch 16/200 - Loss: 0.1620 - Accuracy: 0.9683 - ET: 0h 0m 7s\n",
      "Epoch 17/200 - Loss: 0.0398 - Accuracy: 0.9864 - ET: 0h 0m 7s\n",
      "Epoch 18/200 - Loss: 0.0339 - Accuracy: 0.9864 - ET: 0h 0m 7s\n",
      "Epoch 19/200 - Loss: 0.0170 - Accuracy: 0.9955 - ET: 0h 0m 7s\n",
      "Epoch 20/200 - Loss: 0.0122 - Accuracy: 0.9955 - ET: 0h 0m 7s\n",
      "Epoch 21/200 - Loss: 0.0115 - Accuracy: 0.9955 - ET: 0h 0m 7s\n",
      "Epoch 22/200 - Loss: 0.0134 - Accuracy: 0.9955 - ET: 0h 0m 7s\n",
      "Epoch 23/200 - Loss: 0.0370 - Accuracy: 0.9864 - ET: 0h 0m 7s\n",
      "Epoch 24/200 - Loss: 0.0119 - Accuracy: 0.9955 - ET: 0h 0m 7s\n",
      "Epoch 25/200 - Loss: 0.0172 - Accuracy: 0.9955 - ET: 0h 0m 7s\n",
      "Epoch 26/200 - Loss: 0.0093 - Accuracy: 0.9955 - ET: 0h 0m 7s\n",
      "Epoch 27/200 - Loss: 0.0106 - Accuracy: 0.9955 - ET: 0h 0m 7s\n",
      "Epoch 28/200 - Loss: 0.0094 - Accuracy: 0.9955 - ET: 0h 0m 7s\n",
      "Epoch 29/200 - Loss: 0.0104 - Accuracy: 0.9955 - ET: 0h 0m 7s\n",
      "Epoch 30/200 - Loss: 0.0100 - Accuracy: 0.9910 - ET: 0h 0m 7s\n",
      "Epoch 31/200 - Loss: 0.0087 - Accuracy: 0.9955 - ET: 0h 0m 7s\n",
      "Epoch 32/200 - Loss: 0.0153 - Accuracy: 0.9955 - ET: 0h 0m 7s\n",
      "Epoch 33/200 - Loss: 0.0083 - Accuracy: 0.9955 - ET: 0h 0m 7s\n",
      "Epoch 34/200 - Loss: 0.0083 - Accuracy: 0.9955 - ET: 0h 0m 7s\n",
      "Epoch 35/200 - Loss: 0.0088 - Accuracy: 0.9955 - ET: 0h 0m 7s\n",
      "Epoch 36/200 - Loss: 0.0111 - Accuracy: 0.9955 - ET: 0h 0m 7s\n",
      "Epoch 37/200 - Loss: 0.0082 - Accuracy: 0.9955 - ET: 0h 0m 7s\n",
      "Epoch 38/200 - Loss: 0.0116 - Accuracy: 0.9910 - ET: 0h 0m 7s\n",
      "Epoch 39/200 - Loss: 0.0075 - Accuracy: 0.9955 - ET: 0h 0m 7s\n",
      "Epoch 40/200 - Loss: 0.0105 - Accuracy: 0.9955 - ET: 0h 0m 7s\n",
      "Epoch 41/200 - Loss: 0.0088 - Accuracy: 0.9955 - ET: 0h 0m 7s\n",
      "Epoch 42/200 - Loss: 0.0082 - Accuracy: 0.9910 - ET: 0h 0m 7s\n",
      "Epoch 43/200 - Loss: 0.0082 - Accuracy: 0.9955 - ET: 0h 0m 7s\n",
      "Epoch 44/200 - Loss: 0.0085 - Accuracy: 0.9910 - ET: 0h 0m 7s\n",
      "Epoch 45/200 - Loss: 0.0111 - Accuracy: 0.9955 - ET: 0h 0m 7s\n",
      "Epoch 46/200 - Loss: 0.0100 - Accuracy: 0.9910 - ET: 0h 0m 8s\n",
      "Epoch 47/200 - Loss: 0.0075 - Accuracy: 0.9955 - ET: 0h 0m 8s\n",
      "Epoch 48/200 - Loss: 0.0090 - Accuracy: 0.9955 - ET: 0h 0m 8s\n",
      "Epoch 49/200 - Loss: 0.0081 - Accuracy: 0.9955 - ET: 0h 0m 8s\n",
      "Epoch 50/200 - Loss: 0.0079 - Accuracy: 0.9955 - ET: 0h 0m 8s\n",
      "Epoch 51/200 - Loss: 0.0068 - Accuracy: 0.9955 - ET: 0h 0m 10s\n",
      "Epoch 52/200 - Loss: 0.0111 - Accuracy: 0.9910 - ET: 0h 0m 9s\n",
      "Epoch 53/200 - Loss: 0.0094 - Accuracy: 0.9910 - ET: 0h 0m 9s\n",
      "Epoch 54/200 - Loss: 0.0074 - Accuracy: 0.9955 - ET: 0h 0m 8s\n",
      "Epoch 55/200 - Loss: 0.0089 - Accuracy: 0.9910 - ET: 0h 0m 8s\n",
      "Epoch 56/200 - Loss: 0.0095 - Accuracy: 0.9955 - ET: 0h 0m 8s\n",
      "Epoch 57/200 - Loss: 0.0074 - Accuracy: 0.9955 - ET: 0h 0m 8s\n",
      "Epoch 58/200 - Loss: 0.0091 - Accuracy: 0.9955 - ET: 0h 0m 8s\n",
      "Epoch 59/200 - Loss: 0.0078 - Accuracy: 0.9955 - ET: 0h 0m 8s\n",
      "Epoch 60/200 - Loss: 0.0085 - Accuracy: 0.9910 - ET: 0h 0m 8s\n",
      "Epoch 61/200 - Loss: 0.0107 - Accuracy: 0.9955 - ET: 0h 0m 8s\n",
      "Epoch 62/200 - Loss: 0.0062 - Accuracy: 1.0000 - ET: 0h 0m 8s\n",
      "Epoch 63/200 - Loss: 0.0072 - Accuracy: 0.9955 - ET: 0h 0m 8s\n",
      "Epoch 64/200 - Loss: 0.0081 - Accuracy: 0.9955 - ET: 0h 0m 8s\n",
      "Epoch 65/200 - Loss: 0.0070 - Accuracy: 0.9955 - ET: 0h 0m 8s\n",
      "Epoch 66/200 - Loss: 0.0094 - Accuracy: 0.9910 - ET: 0h 0m 8s\n",
      "Epoch 67/200 - Loss: 0.0119 - Accuracy: 0.9910 - ET: 0h 0m 8s\n",
      "Epoch 68/200 - Loss: 0.0113 - Accuracy: 0.9955 - ET: 0h 0m 8s\n",
      "Epoch 69/200 - Loss: 0.0086 - Accuracy: 0.9955 - ET: 0h 0m 8s\n",
      "Epoch 70/200 - Loss: 0.0091 - Accuracy: 0.9955 - ET: 0h 0m 8s\n",
      "Epoch 71/200 - Loss: 0.0071 - Accuracy: 0.9955 - ET: 0h 0m 8s\n",
      "Epoch 72/200 - Loss: 0.0076 - Accuracy: 0.9955 - ET: 0h 0m 8s\n",
      "Epoch 73/200 - Loss: 0.0141 - Accuracy: 0.9910 - ET: 0h 0m 9s\n",
      "Epoch 74/200 - Loss: 0.0109 - Accuracy: 0.9955 - ET: 0h 0m 8s\n",
      "Epoch 75/200 - Loss: 0.0095 - Accuracy: 0.9955 - ET: 0h 0m 8s\n",
      "Epoch 76/200 - Loss: 0.0094 - Accuracy: 0.9955 - ET: 0h 0m 8s\n",
      "Epoch 77/200 - Loss: 0.0076 - Accuracy: 0.9955 - ET: 0h 0m 8s\n",
      "Epoch 78/200 - Loss: 0.0074 - Accuracy: 0.9955 - ET: 0h 0m 8s\n",
      "Epoch 79/200 - Loss: 0.0075 - Accuracy: 0.9955 - ET: 0h 0m 8s\n",
      "Epoch 80/200 - Loss: 0.0095 - Accuracy: 0.9910 - ET: 0h 0m 8s\n",
      "Epoch 81/200 - Loss: 0.0087 - Accuracy: 0.9955 - ET: 0h 0m 10s\n",
      "Epoch 82/200 - Loss: 0.0073 - Accuracy: 0.9955 - ET: 0h 0m 9s\n",
      "Epoch 83/200 - Loss: 0.0083 - Accuracy: 0.9910 - ET: 0h 1m 31s\n",
      "Epoch 84/200 - Loss: 0.0084 - Accuracy: 0.9955 - ET: 0h 0m 7s\n",
      "Epoch 85/200 - Loss: 0.0074 - Accuracy: 0.9955 - ET: 0h 0m 7s\n",
      "Epoch 86/200 - Loss: 0.0079 - Accuracy: 0.9955 - ET: 0h 0m 7s\n",
      "Epoch 87/200 - Loss: 0.0076 - Accuracy: 0.9910 - ET: 0h 0m 8s\n",
      "Epoch 88/200 - Loss: 0.0074 - Accuracy: 1.0000 - ET: 0h 0m 7s\n",
      "Epoch 89/200 - Loss: 0.0089 - Accuracy: 0.9910 - ET: 0h 0m 7s\n",
      "Epoch 90/200 - Loss: 0.0070 - Accuracy: 0.9955 - ET: 0h 0m 7s\n",
      "Epoch 91/200 - Loss: 0.0079 - Accuracy: 0.9955 - ET: 0h 0m 7s\n",
      "Epoch 92/200 - Loss: 0.0091 - Accuracy: 0.9910 - ET: 0h 0m 7s\n",
      "Epoch 93/200 - Loss: 0.0084 - Accuracy: 0.9955 - ET: 0h 0m 7s\n",
      "Epoch 94/200 - Loss: 0.0102 - Accuracy: 0.9955 - ET: 0h 0m 7s\n",
      "Epoch 95/200 - Loss: 0.0075 - Accuracy: 0.9955 - ET: 0h 0m 7s\n",
      "Epoch 96/200 - Loss: 0.0081 - Accuracy: 0.9955 - ET: 0h 0m 7s\n",
      "Epoch 97/200 - Loss: 0.0086 - Accuracy: 0.9910 - ET: 0h 0m 7s\n",
      "Epoch 98/200 - Loss: 0.0094 - Accuracy: 0.9910 - ET: 0h 0m 7s\n",
      "Epoch 99/200 - Loss: 0.0071 - Accuracy: 0.9955 - ET: 0h 0m 8s\n",
      "Epoch 100/200 - Loss: 0.0081 - Accuracy: 0.9910 - ET: 0h 0m 8s\n",
      "Epoch 101/200 - Loss: 0.0085 - Accuracy: 0.9910 - ET: 0h 0m 9s\n",
      "Epoch 102/200 - Loss: 0.0077 - Accuracy: 0.9955 - ET: 0h 0m 9s\n",
      "Epoch 103/200 - Loss: 0.0093 - Accuracy: 0.9910 - ET: 0h 0m 9s\n",
      "Epoch 104/200 - Loss: 0.0070 - Accuracy: 0.9955 - ET: 0h 0m 9s\n",
      "Epoch 105/200 - Loss: 0.0084 - Accuracy: 0.9955 - ET: 0h 0m 9s\n",
      "Epoch 106/200 - Loss: 0.0068 - Accuracy: 0.9955 - ET: 0h 0m 9s\n",
      "Epoch 107/200 - Loss: 0.0092 - Accuracy: 0.9955 - ET: 0h 0m 9s\n",
      "Epoch 108/200 - Loss: 0.0094 - Accuracy: 0.9910 - ET: 0h 0m 9s\n",
      "Epoch 109/200 - Loss: 0.0067 - Accuracy: 0.9955 - ET: 0h 0m 9s\n",
      "Epoch 110/200 - Loss: 0.0084 - Accuracy: 0.9910 - ET: 0h 0m 9s\n",
      "Epoch 111/200 - Loss: 0.0076 - Accuracy: 0.9955 - ET: 0h 0m 9s\n",
      "Epoch 112/200 - Loss: 0.0102 - Accuracy: 0.9910 - ET: 0h 0m 9s\n",
      "Epoch 113/200 - Loss: 0.0071 - Accuracy: 0.9955 - ET: 0h 0m 9s\n",
      "Epoch 114/200 - Loss: 0.0080 - Accuracy: 0.9955 - ET: 0h 0m 9s\n",
      "Epoch 115/200 - Loss: 0.0107 - Accuracy: 0.9955 - ET: 0h 0m 9s\n",
      "Epoch 116/200 - Loss: 0.0085 - Accuracy: 0.9910 - ET: 0h 0m 9s\n",
      "Epoch 117/200 - Loss: 0.0072 - Accuracy: 0.9955 - ET: 0h 0m 9s\n",
      "Epoch 118/200 - Loss: 0.0077 - Accuracy: 0.9955 - ET: 0h 0m 9s\n",
      "Epoch 119/200 - Loss: 0.0104 - Accuracy: 0.9910 - ET: 0h 0m 9s\n",
      "Epoch 120/200 - Loss: 0.0068 - Accuracy: 0.9955 - ET: 0h 0m 11s\n",
      "Epoch 121/200 - Loss: 0.0086 - Accuracy: 0.9910 - ET: 0h 0m 9s\n",
      "Epoch 122/200 - Loss: 0.0095 - Accuracy: 0.9955 - ET: 0h 2m 31s\n",
      "Epoch 123/200 - Loss: 0.0100 - Accuracy: 0.9910 - ET: 0h 0m 7s\n",
      "Epoch 124/200 - Loss: 0.0083 - Accuracy: 0.9910 - ET: 0h 0m 9s\n",
      "Epoch 125/200 - Loss: 0.0085 - Accuracy: 0.9955 - ET: 0h 0m 7s\n",
      "Epoch 126/200 - Loss: 0.0079 - Accuracy: 0.9955 - ET: 0h 0m 7s\n",
      "Epoch 127/200 - Loss: 0.0071 - Accuracy: 0.9955 - ET: 0h 0m 7s\n",
      "Epoch 128/200 - Loss: 0.0076 - Accuracy: 0.9910 - ET: 0h 0m 7s\n",
      "Epoch 129/200 - Loss: 0.0078 - Accuracy: 0.9910 - ET: 0h 0m 7s\n",
      "Epoch 130/200 - Loss: 0.0100 - Accuracy: 0.9910 - ET: 0h 0m 7s\n",
      "Epoch 131/200 - Loss: 0.0071 - Accuracy: 0.9955 - ET: 0h 0m 7s\n",
      "Epoch 132/200 - Loss: 0.0079 - Accuracy: 0.9955 - ET: 0h 0m 7s\n"
     ]
    },
    {
     "name": "stdout",
     "output_type": "stream",
     "text": [
      "Epoch 133/200 - Loss: 0.0080 - Accuracy: 0.9910 - ET: 0h 0m 7s\n",
      "Epoch 134/200 - Loss: 0.0081 - Accuracy: 0.9955 - ET: 0h 0m 7s\n",
      "Epoch 135/200 - Loss: 0.0085 - Accuracy: 0.9910 - ET: 0h 0m 7s\n",
      "Epoch 136/200 - Loss: 0.0085 - Accuracy: 0.9910 - ET: 0h 0m 7s\n",
      "Epoch 137/200 - Loss: 0.0071 - Accuracy: 0.9910 - ET: 0h 0m 7s\n",
      "Epoch 138/200 - Loss: 0.0066 - Accuracy: 0.9955 - ET: 0h 0m 7s\n",
      "Epoch 139/200 - Loss: 0.0075 - Accuracy: 0.9955 - ET: 0h 0m 8s\n",
      "Epoch 140/200 - Loss: 0.0069 - Accuracy: 0.9955 - ET: 0h 0m 8s\n",
      "Epoch 141/200 - Loss: 0.0073 - Accuracy: 0.9955 - ET: 0h 0m 9s\n",
      "Epoch 142/200 - Loss: 0.0075 - Accuracy: 0.9955 - ET: 0h 0m 9s\n",
      "Epoch 143/200 - Loss: 0.0074 - Accuracy: 0.9955 - ET: 0h 0m 9s\n",
      "Epoch 144/200 - Loss: 0.0076 - Accuracy: 0.9910 - ET: 0h 0m 9s\n",
      "Epoch 145/200 - Loss: 0.0080 - Accuracy: 0.9910 - ET: 0h 0m 9s\n",
      "Epoch 146/200 - Loss: 0.0076 - Accuracy: 0.9955 - ET: 0h 0m 9s\n",
      "Epoch 147/200 - Loss: 0.0095 - Accuracy: 0.9910 - ET: 0h 0m 9s\n",
      "Epoch 148/200 - Loss: 0.0070 - Accuracy: 0.9955 - ET: 0h 0m 10s\n",
      "Epoch 149/200 - Loss: 0.0074 - Accuracy: 0.9955 - ET: 0h 0m 9s\n",
      "Epoch 150/200 - Loss: 0.0087 - Accuracy: 0.9955 - ET: 0h 0m 9s\n",
      "Epoch 151/200 - Loss: 0.0067 - Accuracy: 0.9955 - ET: 0h 0m 9s\n",
      "Epoch 152/200 - Loss: 0.0065 - Accuracy: 0.9955 - ET: 0h 0m 10s\n",
      "Epoch 153/200 - Loss: 0.0067 - Accuracy: 0.9910 - ET: 0h 0m 9s\n",
      "Epoch 154/200 - Loss: 0.0070 - Accuracy: 0.9955 - ET: 0h 0m 9s\n",
      "Epoch 155/200 - Loss: 0.0667 - Accuracy: 0.9819 - ET: 0h 0m 9s\n",
      "Epoch 156/200 - Loss: 0.6701 - Accuracy: 0.8190 - ET: 0h 0m 9s\n",
      "Epoch 157/200 - Loss: 0.0850 - Accuracy: 0.9638 - ET: 0h 0m 9s\n",
      "Epoch 158/200 - Loss: 0.0636 - Accuracy: 0.9819 - ET: 0h 0m 9s\n",
      "Epoch 159/200 - Loss: 0.0286 - Accuracy: 0.9955 - ET: 0h 0m 9s\n",
      "Epoch 160/200 - Loss: 0.0513 - Accuracy: 0.9774 - ET: 0h 0m 10s\n",
      "Epoch 161/200 - Loss: 0.0302 - Accuracy: 0.9910 - ET: 0h 0m 11s\n",
      "Epoch 162/200 - Loss: 0.0252 - Accuracy: 0.9864 - ET: 0h 0m 10s\n",
      "Epoch 163/200 - Loss: 0.0199 - Accuracy: 0.9910 - ET: 0h 0m 10s\n",
      "Epoch 164/200 - Loss: 0.0166 - Accuracy: 0.9910 - ET: 0h 0m 9s\n",
      "Epoch 165/200 - Loss: 0.0120 - Accuracy: 0.9955 - ET: 0h 0m 9s\n",
      "Epoch 166/200 - Loss: 0.0106 - Accuracy: 0.9955 - ET: 0h 0m 9s\n",
      "Epoch 167/200 - Loss: 0.0171 - Accuracy: 0.9910 - ET: 0h 0m 9s\n",
      "Epoch 168/200 - Loss: 0.0127 - Accuracy: 0.9955 - ET: 0h 0m 9s\n",
      "Epoch 169/200 - Loss: 0.0088 - Accuracy: 0.9955 - ET: 0h 0m 9s\n",
      "Epoch 170/200 - Loss: 0.0118 - Accuracy: 0.9955 - ET: 0h 0m 9s\n",
      "Epoch 171/200 - Loss: 0.0213 - Accuracy: 0.9864 - ET: 0h 0m 9s\n",
      "Epoch 172/200 - Loss: 0.0171 - Accuracy: 0.9955 - ET: 0h 0m 9s\n",
      "Epoch 173/200 - Loss: 0.0132 - Accuracy: 0.9955 - ET: 0h 0m 9s\n",
      "Epoch 174/200 - Loss: 0.0111 - Accuracy: 0.9910 - ET: 0h 0m 9s\n",
      "Epoch 175/200 - Loss: 0.0079 - Accuracy: 0.9955 - ET: 0h 0m 9s\n",
      "Epoch 176/200 - Loss: 0.0076 - Accuracy: 0.9955 - ET: 0h 0m 9s\n",
      "Epoch 177/200 - Loss: 0.0083 - Accuracy: 0.9955 - ET: 0h 0m 9s\n",
      "Epoch 178/200 - Loss: 0.0095 - Accuracy: 0.9910 - ET: 0h 0m 9s\n",
      "Epoch 179/200 - Loss: 0.0083 - Accuracy: 0.9910 - ET: 0h 0m 9s\n",
      "Epoch 180/200 - Loss: 0.0081 - Accuracy: 0.9910 - ET: 0h 0m 9s\n",
      "Epoch 181/200 - Loss: 0.0076 - Accuracy: 0.9955 - ET: 0h 0m 9s\n",
      "Epoch 182/200 - Loss: 0.0073 - Accuracy: 0.9955 - ET: 0h 0m 9s\n",
      "Epoch 183/200 - Loss: 0.0095 - Accuracy: 0.9910 - ET: 0h 0m 9s\n",
      "Epoch 184/200 - Loss: 0.0073 - Accuracy: 1.0000 - ET: 0h 0m 9s\n",
      "Epoch 185/200 - Loss: 0.0079 - Accuracy: 0.9955 - ET: 0h 0m 9s\n",
      "Epoch 186/200 - Loss: 0.0077 - Accuracy: 0.9910 - ET: 0h 0m 9s\n",
      "Epoch 187/200 - Loss: 0.0078 - Accuracy: 0.9955 - ET: 0h 0m 9s\n",
      "Epoch 188/200 - Loss: 0.0080 - Accuracy: 0.9955 - ET: 0h 0m 9s\n",
      "Epoch 189/200 - Loss: 0.0097 - Accuracy: 0.9955 - ET: 0h 0m 9s\n",
      "Epoch 190/200 - Loss: 0.0070 - Accuracy: 0.9955 - ET: 0h 0m 9s\n",
      "Epoch 191/200 - Loss: 0.0066 - Accuracy: 1.0000 - ET: 0h 0m 9s\n",
      "Epoch 192/200 - Loss: 0.0074 - Accuracy: 0.9955 - ET: 0h 0m 10s\n",
      "Epoch 193/200 - Loss: 0.0103 - Accuracy: 0.9955 - ET: 0h 0m 11s\n",
      "Epoch 194/200 - Loss: 0.0101 - Accuracy: 0.9955 - ET: 0h 0m 10s\n",
      "Epoch 195/200 - Loss: 0.0108 - Accuracy: 0.9910 - ET: 0h 0m 10s\n",
      "Epoch 196/200 - Loss: 0.0065 - Accuracy: 0.9955 - ET: 0h 0m 9s\n",
      "Epoch 197/200 - Loss: 0.0078 - Accuracy: 0.9955 - ET: 0h 0m 9s\n",
      "Epoch 198/200 - Loss: 0.0105 - Accuracy: 0.9955 - ET: 0h 0m 9s\n",
      "Epoch 199/200 - Loss: 0.0078 - Accuracy: 0.9955 - ET: 0h 0m 9s\n",
      "Epoch 200/200 - Loss: 0.0083 - Accuracy: 0.9955 - ET: 0h 0m 9s\n",
      "total = 8.0, correct = 6.0\n",
      "total = 9.0, correct = 7.0\n",
      "Test Accuracy: 77.77777777777779%\n",
      "Elapsed Time: 0h 30m 57s\n"
     ]
    }
   ],
   "source": [
    "start = time.time()\n",
    "\n",
    "num_layers = 18\n",
    "image_folder_path = \"/Users/shriyanssairy/Desktop/mihirs music images copy\"\n",
    "test_folder_path = \"/Users/shriyanssairy/Desktop/Test Images\"\n",
    "\n",
    "device = torch.device('mps')\n",
    "\n",
    "# Load a pre-trained model (e.g., ResNet)\n",
    "model = AI_Detection_Model(num_classes=2, num_layers=num_layers)\n",
    "\n",
    "# Define the loss function and optimizer\n",
    "criterion = torch.nn.CrossEntropyLoss()\n",
    "optimizer = torch.optim.Adam(model.parameters(), lr=0.001)\n",
    "\n",
    "#Load previous model (Comment out if you want to train a new model)\n",
    "prev_model_path = \"/Users/shriyanssairy/Desktop/Saved Models/saved_resnet18_1691869340.2124429(78%).pt\"\n",
    "model.load_state_dict(torch.load(prev_model_path, map_location=device))\n",
    "\n",
    "model = model.to(device)\n",
    "model.train()\n",
    "\n",
    "# Load the dataset\n",
    "train_dataset = ImageFolder(root=image_folder_path, transform=transform)\n",
    "test_dataset = ImageFolder(root=test_folder_path, transform=transform)\n",
    "class_names = train_dataset.classes\n",
    "num_classes = len(class_names)\n",
    "\n",
    "print(len(train_dataset))\n",
    "\n",
    "# Split the dataset into training and testing sets\n",
    "# train_size = int(0.9 * len(dataset))\n",
    "# test_size = len(dataset) - train_size\n",
    "# train_dataset, test_dataset = torch.utils.data.random_split(dataset, [train_size, test_size])\n",
    "\n",
    "# Create data loaders\n",
    "batch_size = 8\n",
    "train_loader = DataLoader(train_dataset, batch_size=batch_size, shuffle=True)\n",
    "test_loader = DataLoader(test_dataset, batch_size=batch_size, shuffle=False)\n",
    "\n",
    "# Training loop\n",
    "num_epochs = 200\n",
    "for epoch in range(num_epochs):\n",
    "    epoch_start_time = time.time()\n",
    "    running_loss = 0.0\n",
    "    correct_predictions = 0\n",
    "    total_predictions = 0\n",
    "\n",
    "    for inputs, labels in train_loader:\n",
    "        inputs = inputs.to(device)\n",
    "        labels = labels.to(device)\n",
    "\n",
    "        optimizer.zero_grad()\n",
    "\n",
    "        # Forward pass\n",
    "        outputs = model(inputs)\n",
    "        loss = criterion(outputs, labels)\n",
    "\n",
    "        # Backward pass and optimization\n",
    "        loss.backward()\n",
    "        optimizer.step()\n",
    "\n",
    "        # Compute training accuracy\n",
    "        _, predicted = torch.max(outputs.data, 1)\n",
    "\n",
    "        total_predictions += labels.size(0)\n",
    "        correct_predictions += (predicted == labels).sum().item()\n",
    "\n",
    "        running_loss += loss.item()\n",
    "\n",
    "    # Compute average training loss and accuracy for the epoch\n",
    "    train_loss = running_loss / len(train_loader)\n",
    "    train_accuracy = correct_predictions / total_predictions\n",
    "    epoch_end_time = time.time()\n",
    "    total_epoch_time = epoch_end_time - epoch_start_time\n",
    "    print(f\"Epoch {epoch+1}/{num_epochs} - Loss: {train_loss:.4f} - Accuracy: {train_accuracy:.4f} - ET: {total_epoch_time//3600:.0f}h {total_epoch_time//60:.0f}m {round(total_epoch_time%60)}s\")\n",
    "\n",
    "# Evaluation loop\n",
    "model.eval()\n",
    "correct = 0.0\n",
    "total = 0.0\n",
    "with torch.no_grad():\n",
    "    for images, labels in test_loader:\n",
    "        images = images.to(device)\n",
    "        labels = labels.to(device)\n",
    "            \n",
    "        outputs = model(images)\n",
    "        _, predicted = torch.max(outputs.data, 1)\n",
    "\n",
    "        total += labels.size(0)\n",
    "        correct += (predicted == labels).sum().item()\n",
    "        print(f\"total = {total}, correct = {correct}\")\n",
    "\n",
    "# Print accuracy on the test set\n",
    "print(f\"Test Accuracy: {(correct/total) * 100}%\")\n",
    "\n",
    "model_path = f'/Users/shriyanssairy/Desktop/Saved Models/saved_resnet{num_layers}_{start}({(correct/total) * 100:.0f}%).pt'\n",
    "torch.save(model.state_dict(), model_path)\n",
    "\n",
    "\n",
    "end = time.time()\n",
    "total_time = end-start\n",
    "print(f'Elapsed Time: {total_time//3600:.0f}h {total_time//60:.0f}m {round(total_time%60)}s')\n"
   ]
  },
  {
   "cell_type": "markdown",
   "metadata": {
    "id": "Uj4_z_sujOIW"
   },
   "source": [
    "# **Test Model**"
   ]
  },
  {
   "cell_type": "code",
   "execution_count": 5,
   "metadata": {
    "colab": {
     "base_uri": "https://localhost:8080/"
    },
    "id": "ihLpTLKL0dTb",
    "outputId": "1f1ab999-9fce-407c-e354-bee7fa9af77b"
   },
   "outputs": [
    {
     "name": "stderr",
     "output_type": "stream",
     "text": [
      "/var/folders/my/lj2ft5495yv8vr7ldgspmbqr0000gn/T/ipykernel_97711/2697597378.py:57: UserWarning: PySoundFile failed. Trying audioread instead.\n",
      "  audio, sr = librosa.load(audio_file, duration=30.0)  # Specify duration of 30 seconds\n",
      "/Users/shriyanssairy/anaconda3/lib/python3.10/site-packages/librosa/core/audio.py:184: FutureWarning: librosa.core.audio.__audioread_load\n",
      "\tDeprecated as of librosa version 0.10.0.\n",
      "\tIt will be removed in librosa version 1.0.\n",
      "  y, sr_native = __audioread_load(path, offset, duration, dtype)\n"
     ]
    },
    {
     "ename": "FileNotFoundError",
     "evalue": "[Errno 2] No such file or directory: '/Users/shriyanssairy/Desktop/Test MP3s/Drake AI - Wide Open (Official Audio).mp3'",
     "output_type": "error",
     "traceback": [
      "\u001b[0;31m---------------------------------------------------------------------------\u001b[0m",
      "\u001b[0;31mLibsndfileError\u001b[0m                           Traceback (most recent call last)",
      "File \u001b[0;32m~/anaconda3/lib/python3.10/site-packages/librosa/core/audio.py:176\u001b[0m, in \u001b[0;36mload\u001b[0;34m(path, sr, mono, offset, duration, dtype, res_type)\u001b[0m\n\u001b[1;32m    175\u001b[0m \u001b[38;5;28;01mtry\u001b[39;00m:\n\u001b[0;32m--> 176\u001b[0m     y, sr_native \u001b[38;5;241m=\u001b[39m \u001b[43m__soundfile_load\u001b[49m\u001b[43m(\u001b[49m\u001b[43mpath\u001b[49m\u001b[43m,\u001b[49m\u001b[43m \u001b[49m\u001b[43moffset\u001b[49m\u001b[43m,\u001b[49m\u001b[43m \u001b[49m\u001b[43mduration\u001b[49m\u001b[43m,\u001b[49m\u001b[43m \u001b[49m\u001b[43mdtype\u001b[49m\u001b[43m)\u001b[49m\n\u001b[1;32m    178\u001b[0m \u001b[38;5;28;01mexcept\u001b[39;00m sf\u001b[38;5;241m.\u001b[39mSoundFileRuntimeError \u001b[38;5;28;01mas\u001b[39;00m exc:\n\u001b[1;32m    179\u001b[0m     \u001b[38;5;66;03m# If soundfile failed, try audioread instead\u001b[39;00m\n",
      "File \u001b[0;32m~/anaconda3/lib/python3.10/site-packages/librosa/core/audio.py:209\u001b[0m, in \u001b[0;36m__soundfile_load\u001b[0;34m(path, offset, duration, dtype)\u001b[0m\n\u001b[1;32m    207\u001b[0m \u001b[38;5;28;01melse\u001b[39;00m:\n\u001b[1;32m    208\u001b[0m     \u001b[38;5;66;03m# Otherwise, create the soundfile object\u001b[39;00m\n\u001b[0;32m--> 209\u001b[0m     context \u001b[38;5;241m=\u001b[39m \u001b[43msf\u001b[49m\u001b[38;5;241;43m.\u001b[39;49m\u001b[43mSoundFile\u001b[49m\u001b[43m(\u001b[49m\u001b[43mpath\u001b[49m\u001b[43m)\u001b[49m\n\u001b[1;32m    211\u001b[0m \u001b[38;5;28;01mwith\u001b[39;00m context \u001b[38;5;28;01mas\u001b[39;00m sf_desc:\n",
      "File \u001b[0;32m~/anaconda3/lib/python3.10/site-packages/soundfile.py:658\u001b[0m, in \u001b[0;36mSoundFile.__init__\u001b[0;34m(self, file, mode, samplerate, channels, subtype, endian, format, closefd)\u001b[0m\n\u001b[1;32m    656\u001b[0m \u001b[38;5;28mself\u001b[39m\u001b[38;5;241m.\u001b[39m_info \u001b[38;5;241m=\u001b[39m _create_info_struct(file, mode, samplerate, channels,\n\u001b[1;32m    657\u001b[0m                                  \u001b[38;5;28mformat\u001b[39m, subtype, endian)\n\u001b[0;32m--> 658\u001b[0m \u001b[38;5;28mself\u001b[39m\u001b[38;5;241m.\u001b[39m_file \u001b[38;5;241m=\u001b[39m \u001b[38;5;28;43mself\u001b[39;49m\u001b[38;5;241;43m.\u001b[39;49m\u001b[43m_open\u001b[49m\u001b[43m(\u001b[49m\u001b[43mfile\u001b[49m\u001b[43m,\u001b[49m\u001b[43m \u001b[49m\u001b[43mmode_int\u001b[49m\u001b[43m,\u001b[49m\u001b[43m \u001b[49m\u001b[43mclosefd\u001b[49m\u001b[43m)\u001b[49m\n\u001b[1;32m    659\u001b[0m \u001b[38;5;28;01mif\u001b[39;00m \u001b[38;5;28mset\u001b[39m(mode)\u001b[38;5;241m.\u001b[39missuperset(\u001b[38;5;124m'\u001b[39m\u001b[38;5;124mr+\u001b[39m\u001b[38;5;124m'\u001b[39m) \u001b[38;5;129;01mand\u001b[39;00m \u001b[38;5;28mself\u001b[39m\u001b[38;5;241m.\u001b[39mseekable():\n\u001b[1;32m    660\u001b[0m     \u001b[38;5;66;03m# Move write position to 0 (like in Python file objects)\u001b[39;00m\n",
      "File \u001b[0;32m~/anaconda3/lib/python3.10/site-packages/soundfile.py:1216\u001b[0m, in \u001b[0;36mSoundFile._open\u001b[0;34m(self, file, mode_int, closefd)\u001b[0m\n\u001b[1;32m   1215\u001b[0m     err \u001b[38;5;241m=\u001b[39m _snd\u001b[38;5;241m.\u001b[39msf_error(file_ptr)\n\u001b[0;32m-> 1216\u001b[0m     \u001b[38;5;28;01mraise\u001b[39;00m LibsndfileError(err, prefix\u001b[38;5;241m=\u001b[39m\u001b[38;5;124m\"\u001b[39m\u001b[38;5;124mError opening \u001b[39m\u001b[38;5;132;01m{0!r}\u001b[39;00m\u001b[38;5;124m: \u001b[39m\u001b[38;5;124m\"\u001b[39m\u001b[38;5;241m.\u001b[39mformat(\u001b[38;5;28mself\u001b[39m\u001b[38;5;241m.\u001b[39mname))\n\u001b[1;32m   1217\u001b[0m \u001b[38;5;28;01mif\u001b[39;00m mode_int \u001b[38;5;241m==\u001b[39m _snd\u001b[38;5;241m.\u001b[39mSFM_WRITE:\n\u001b[1;32m   1218\u001b[0m     \u001b[38;5;66;03m# Due to a bug in libsndfile version <= 1.0.25, frames != 0\u001b[39;00m\n\u001b[1;32m   1219\u001b[0m     \u001b[38;5;66;03m# when opening a named pipe in SFM_WRITE mode.\u001b[39;00m\n\u001b[1;32m   1220\u001b[0m     \u001b[38;5;66;03m# See http://github.com/erikd/libsndfile/issues/77.\u001b[39;00m\n",
      "\u001b[0;31mLibsndfileError\u001b[0m: Error opening '/Users/shriyanssairy/Desktop/Test MP3s/Drake AI - Wide Open (Official Audio).mp3': System error.",
      "\nDuring handling of the above exception, another exception occurred:\n",
      "\u001b[0;31mFileNotFoundError\u001b[0m                         Traceback (most recent call last)",
      "Cell \u001b[0;32mIn[5], line 13\u001b[0m\n\u001b[1;32m     10\u001b[0m output_image_path \u001b[38;5;241m=\u001b[39m \u001b[38;5;124m'\u001b[39m\u001b[38;5;124m/Users/shriyanssairy/Desktop/spectrogram.jpg\u001b[39m\u001b[38;5;124m'\u001b[39m\n\u001b[1;32m     12\u001b[0m \u001b[38;5;66;03m# Convert the audio file to spectrogram image and save as JPEG\u001b[39;00m\n\u001b[0;32m---> 13\u001b[0m \u001b[43maudio_to_spectrogram\u001b[49m\u001b[43m(\u001b[49m\u001b[43minput_audio_path\u001b[49m\u001b[43m,\u001b[49m\u001b[43m \u001b[49m\u001b[43moutput_image_path\u001b[49m\u001b[43m)\u001b[49m\n\u001b[1;32m     15\u001b[0m \u001b[38;5;28mprint\u001b[39m(\u001b[38;5;124m\"\u001b[39m\u001b[38;5;124mSpectrogram image saved successfully.\u001b[39m\u001b[38;5;124m\"\u001b[39m)\n\u001b[1;32m     17\u001b[0m predicted_class \u001b[38;5;241m=\u001b[39m test_single_image(output_image_path, transform)\n",
      "Cell \u001b[0;32mIn[3], line 57\u001b[0m, in \u001b[0;36maudio_to_spectrogram\u001b[0;34m(audio_file, output_file)\u001b[0m\n\u001b[1;32m     55\u001b[0m \u001b[38;5;28;01mdef\u001b[39;00m \u001b[38;5;21maudio_to_spectrogram\u001b[39m(audio_file, output_file):\n\u001b[1;32m     56\u001b[0m     \u001b[38;5;66;03m# Load the audio file\u001b[39;00m\n\u001b[0;32m---> 57\u001b[0m     audio, sr \u001b[38;5;241m=\u001b[39m \u001b[43mlibrosa\u001b[49m\u001b[38;5;241;43m.\u001b[39;49m\u001b[43mload\u001b[49m\u001b[43m(\u001b[49m\u001b[43maudio_file\u001b[49m\u001b[43m,\u001b[49m\u001b[43m \u001b[49m\u001b[43mduration\u001b[49m\u001b[38;5;241;43m=\u001b[39;49m\u001b[38;5;241;43m30.0\u001b[39;49m\u001b[43m)\u001b[49m  \u001b[38;5;66;03m# Specify duration of 30 seconds\u001b[39;00m\n\u001b[1;32m     59\u001b[0m     \u001b[38;5;66;03m# Create a spectrogram image\u001b[39;00m\n\u001b[1;32m     60\u001b[0m     D \u001b[38;5;241m=\u001b[39m librosa\u001b[38;5;241m.\u001b[39mamplitude_to_db(np\u001b[38;5;241m.\u001b[39mabs(librosa\u001b[38;5;241m.\u001b[39mstft(audio)), ref\u001b[38;5;241m=\u001b[39mnp\u001b[38;5;241m.\u001b[39mmax)\n",
      "File \u001b[0;32m~/anaconda3/lib/python3.10/site-packages/librosa/core/audio.py:184\u001b[0m, in \u001b[0;36mload\u001b[0;34m(path, sr, mono, offset, duration, dtype, res_type)\u001b[0m\n\u001b[1;32m    180\u001b[0m \u001b[38;5;28;01mif\u001b[39;00m \u001b[38;5;28misinstance\u001b[39m(path, (\u001b[38;5;28mstr\u001b[39m, pathlib\u001b[38;5;241m.\u001b[39mPurePath)):\n\u001b[1;32m    181\u001b[0m     warnings\u001b[38;5;241m.\u001b[39mwarn(\n\u001b[1;32m    182\u001b[0m         \u001b[38;5;124m\"\u001b[39m\u001b[38;5;124mPySoundFile failed. Trying audioread instead.\u001b[39m\u001b[38;5;124m\"\u001b[39m, stacklevel\u001b[38;5;241m=\u001b[39m\u001b[38;5;241m2\u001b[39m\n\u001b[1;32m    183\u001b[0m     )\n\u001b[0;32m--> 184\u001b[0m     y, sr_native \u001b[38;5;241m=\u001b[39m \u001b[43m__audioread_load\u001b[49m\u001b[43m(\u001b[49m\u001b[43mpath\u001b[49m\u001b[43m,\u001b[49m\u001b[43m \u001b[49m\u001b[43moffset\u001b[49m\u001b[43m,\u001b[49m\u001b[43m \u001b[49m\u001b[43mduration\u001b[49m\u001b[43m,\u001b[49m\u001b[43m \u001b[49m\u001b[43mdtype\u001b[49m\u001b[43m)\u001b[49m\n\u001b[1;32m    185\u001b[0m \u001b[38;5;28;01melse\u001b[39;00m:\n\u001b[1;32m    186\u001b[0m     \u001b[38;5;28;01mraise\u001b[39;00m exc\n",
      "File \u001b[0;32m~/anaconda3/lib/python3.10/site-packages/decorator.py:232\u001b[0m, in \u001b[0;36mdecorate.<locals>.fun\u001b[0;34m(*args, **kw)\u001b[0m\n\u001b[1;32m    230\u001b[0m \u001b[38;5;28;01mif\u001b[39;00m \u001b[38;5;129;01mnot\u001b[39;00m kwsyntax:\n\u001b[1;32m    231\u001b[0m     args, kw \u001b[38;5;241m=\u001b[39m fix(args, kw, sig)\n\u001b[0;32m--> 232\u001b[0m \u001b[38;5;28;01mreturn\u001b[39;00m \u001b[43mcaller\u001b[49m\u001b[43m(\u001b[49m\u001b[43mfunc\u001b[49m\u001b[43m,\u001b[49m\u001b[43m \u001b[49m\u001b[38;5;241;43m*\u001b[39;49m\u001b[43m(\u001b[49m\u001b[43mextras\u001b[49m\u001b[43m \u001b[49m\u001b[38;5;241;43m+\u001b[39;49m\u001b[43m \u001b[49m\u001b[43margs\u001b[49m\u001b[43m)\u001b[49m\u001b[43m,\u001b[49m\u001b[43m \u001b[49m\u001b[38;5;241;43m*\u001b[39;49m\u001b[38;5;241;43m*\u001b[39;49m\u001b[43mkw\u001b[49m\u001b[43m)\u001b[49m\n",
      "File \u001b[0;32m~/anaconda3/lib/python3.10/site-packages/librosa/util/decorators.py:60\u001b[0m, in \u001b[0;36mdeprecated.<locals>.__wrapper\u001b[0;34m(func, *args, **kwargs)\u001b[0m\n\u001b[1;32m     51\u001b[0m \u001b[38;5;124;03m\"\"\"Warn the user, and then proceed.\"\"\"\u001b[39;00m\n\u001b[1;32m     52\u001b[0m warnings\u001b[38;5;241m.\u001b[39mwarn(\n\u001b[1;32m     53\u001b[0m     \u001b[38;5;124m\"\u001b[39m\u001b[38;5;132;01m{:s}\u001b[39;00m\u001b[38;5;124m.\u001b[39m\u001b[38;5;132;01m{:s}\u001b[39;00m\u001b[38;5;130;01m\\n\u001b[39;00m\u001b[38;5;130;01m\\t\u001b[39;00m\u001b[38;5;124mDeprecated as of librosa version \u001b[39m\u001b[38;5;132;01m{:s}\u001b[39;00m\u001b[38;5;124m.\u001b[39m\u001b[38;5;124m\"\u001b[39m\n\u001b[1;32m     54\u001b[0m     \u001b[38;5;124m\"\u001b[39m\u001b[38;5;130;01m\\n\u001b[39;00m\u001b[38;5;130;01m\\t\u001b[39;00m\u001b[38;5;124mIt will be removed in librosa version \u001b[39m\u001b[38;5;132;01m{:s}\u001b[39;00m\u001b[38;5;124m.\u001b[39m\u001b[38;5;124m\"\u001b[39m\u001b[38;5;241m.\u001b[39mformat(\n\u001b[0;32m   (...)\u001b[0m\n\u001b[1;32m     58\u001b[0m     stacklevel\u001b[38;5;241m=\u001b[39m\u001b[38;5;241m3\u001b[39m,  \u001b[38;5;66;03m# Would be 2, but the decorator adds a level\u001b[39;00m\n\u001b[1;32m     59\u001b[0m )\n\u001b[0;32m---> 60\u001b[0m \u001b[38;5;28;01mreturn\u001b[39;00m \u001b[43mfunc\u001b[49m\u001b[43m(\u001b[49m\u001b[38;5;241;43m*\u001b[39;49m\u001b[43margs\u001b[49m\u001b[43m,\u001b[49m\u001b[43m \u001b[49m\u001b[38;5;241;43m*\u001b[39;49m\u001b[38;5;241;43m*\u001b[39;49m\u001b[43mkwargs\u001b[49m\u001b[43m)\u001b[49m\n",
      "File \u001b[0;32m~/anaconda3/lib/python3.10/site-packages/librosa/core/audio.py:241\u001b[0m, in \u001b[0;36m__audioread_load\u001b[0;34m(path, offset, duration, dtype)\u001b[0m\n\u001b[1;32m    238\u001b[0m     reader \u001b[38;5;241m=\u001b[39m path\n\u001b[1;32m    239\u001b[0m \u001b[38;5;28;01melse\u001b[39;00m:\n\u001b[1;32m    240\u001b[0m     \u001b[38;5;66;03m# If the input was not an audioread object, try to open it\u001b[39;00m\n\u001b[0;32m--> 241\u001b[0m     reader \u001b[38;5;241m=\u001b[39m \u001b[43maudioread\u001b[49m\u001b[38;5;241;43m.\u001b[39;49m\u001b[43maudio_open\u001b[49m\u001b[43m(\u001b[49m\u001b[43mpath\u001b[49m\u001b[43m)\u001b[49m\n\u001b[1;32m    243\u001b[0m \u001b[38;5;28;01mwith\u001b[39;00m reader \u001b[38;5;28;01mas\u001b[39;00m input_file:\n\u001b[1;32m    244\u001b[0m     sr_native \u001b[38;5;241m=\u001b[39m input_file\u001b[38;5;241m.\u001b[39msamplerate\n",
      "File \u001b[0;32m~/anaconda3/lib/python3.10/site-packages/audioread/__init__.py:127\u001b[0m, in \u001b[0;36maudio_open\u001b[0;34m(path, backends)\u001b[0m\n\u001b[1;32m    125\u001b[0m \u001b[38;5;28;01mfor\u001b[39;00m BackendClass \u001b[38;5;129;01min\u001b[39;00m backends:\n\u001b[1;32m    126\u001b[0m     \u001b[38;5;28;01mtry\u001b[39;00m:\n\u001b[0;32m--> 127\u001b[0m         \u001b[38;5;28;01mreturn\u001b[39;00m \u001b[43mBackendClass\u001b[49m\u001b[43m(\u001b[49m\u001b[43mpath\u001b[49m\u001b[43m)\u001b[49m\n\u001b[1;32m    128\u001b[0m     \u001b[38;5;28;01mexcept\u001b[39;00m DecodeError:\n\u001b[1;32m    129\u001b[0m         \u001b[38;5;28;01mpass\u001b[39;00m\n",
      "File \u001b[0;32m~/anaconda3/lib/python3.10/site-packages/audioread/rawread.py:59\u001b[0m, in \u001b[0;36mRawAudioFile.__init__\u001b[0;34m(self, filename)\u001b[0m\n\u001b[1;32m     58\u001b[0m \u001b[38;5;28;01mdef\u001b[39;00m \u001b[38;5;21m__init__\u001b[39m(\u001b[38;5;28mself\u001b[39m, filename):\n\u001b[0;32m---> 59\u001b[0m     \u001b[38;5;28mself\u001b[39m\u001b[38;5;241m.\u001b[39m_fh \u001b[38;5;241m=\u001b[39m \u001b[38;5;28;43mopen\u001b[39;49m\u001b[43m(\u001b[49m\u001b[43mfilename\u001b[49m\u001b[43m,\u001b[49m\u001b[43m \u001b[49m\u001b[38;5;124;43m'\u001b[39;49m\u001b[38;5;124;43mrb\u001b[39;49m\u001b[38;5;124;43m'\u001b[39;49m\u001b[43m)\u001b[49m\n\u001b[1;32m     61\u001b[0m     \u001b[38;5;28;01mtry\u001b[39;00m:\n\u001b[1;32m     62\u001b[0m         \u001b[38;5;28mself\u001b[39m\u001b[38;5;241m.\u001b[39m_file \u001b[38;5;241m=\u001b[39m aifc\u001b[38;5;241m.\u001b[39mopen(\u001b[38;5;28mself\u001b[39m\u001b[38;5;241m.\u001b[39m_fh)\n",
      "\u001b[0;31mFileNotFoundError\u001b[0m: [Errno 2] No such file or directory: '/Users/shriyanssairy/Desktop/Test MP3s/Drake AI - Wide Open (Official Audio).mp3'"
     ]
    }
   ],
   "source": [
    "device = torch.device('mps')\n",
    "model_path = '/Users/shriyanssairy/Desktop/Saved Models/saved_resnet18_1691795939.62897(87%).pt'\n",
    "num_layers = 18\n",
    "model = AI_Detection_Model(num_classes=2, num_layers=num_layers)\n",
    "model.load_state_dict(torch.load(model_path, map_location=device))\n",
    "model.eval();\n",
    "\n",
    "# Provide the input MP3 file path and output spectrogram image path\n",
    "input_audio_path = \"/Users/shriyanssairy/Desktop/Test MP3s/Drake AI - Wide Open (Official Audio).mp3\"\n",
    "output_image_path = '/Users/shriyanssairy/Desktop/spectrogram.jpg'\n",
    "\n",
    "# Convert the audio file to spectrogram image and save as JPEG\n",
    "audio_to_spectrogram(input_audio_path, output_image_path)\n",
    "\n",
    "print(\"Spectrogram image saved successfully.\")\n",
    "\n",
    "predicted_class = test_single_image(output_image_path, transform)\n",
    "print(f\"Predicted class: {predicted_class}\")"
   ]
  },
  {
   "cell_type": "code",
   "execution_count": 9,
   "metadata": {},
   "outputs": [
    {
     "name": "stdout",
     "output_type": "stream",
     "text": [
      "hello\n"
     ]
    }
   ],
   "source": [
    "#Test model with all files in Test MP3s folder\n",
    "\n",
    "device = torch.device('mps')\n",
    "model_path = '/Users/shriyanssairy/Desktop/Saved Models/saved_resnet18_1691910656.348921(78%).pt'\n",
    "num_layers = 18\n",
    "model = AI_Detection_Model(num_classes=2, num_layers=num_layers)\n",
    "model.load_state_dict(torch.load(model_path, map_location=device))\n",
    "model.eval();\n",
    "\n",
    "spectrogram_path = '/Users/shriyanssairy/Desktop/spectrogram.jpg'\n",
    "print(\"hello\")\n",
    "\n",
    "for file in glob.glob(os.path.join('/Users/shriyanssairy/Desktop/Test MP3s', '*.mp3')):\n",
    "    audio_to_spectrogram(file, spectrogram_path)\n",
    "    predicted_class = test_single_image(spectrogram_path, transform)\n",
    "    print(f\"{predicted_class} --- {os.path.splitext(file)[0]}\")"
   ]
  },
  {
   "cell_type": "code",
   "execution_count": 30,
   "metadata": {
    "colab": {
     "base_uri": "https://localhost:8080/"
    },
    "id": "v8oMalkq10O9",
    "outputId": "39f01ec8-27c3-4ff7-9866-7b189fb6d831"
   },
   "outputs": [
    {
     "name": "stdout",
     "output_type": "stream",
     "text": [
      "Predicted class: Real Music\n"
     ]
    }
   ],
   "source": [
    "\n",
    "spectrogram = '/content/drive/MyDrive/Separate Images/Images/spectrogram.jpg'\n",
    "\n",
    "# Test a single image\n",
    "test_transforms = transforms.Compose([\n",
    "    transforms.Resize((224, 224)),\n",
    "    transforms.ToTensor(),\n",
    "    transforms.Normalize([0.485, 0.456, 0.406], [0.229, 0.224, 0.225])\n",
    "])\n",
    "predicted_class = test_single_image(spectrogram, transform)\n",
    "print(f\"Predicted class: {predicted_class}\")"
   ]
  }
 ],
 "metadata": {
  "accelerator": "GPU",
  "colab": {
   "collapsed_sections": [
    "jAsekFWe4-f_",
    "dX5c_AanRXcC",
    "pSs7zXV95Izk",
    "Uj4_z_sujOIW"
   ],
   "gpuType": "T4",
   "provenance": []
  },
  "kernelspec": {
   "display_name": "Python 3 (ipykernel)",
   "language": "python",
   "name": "python3"
  },
  "language_info": {
   "codemirror_mode": {
    "name": "ipython",
    "version": 3
   },
   "file_extension": ".py",
   "mimetype": "text/x-python",
   "name": "python",
   "nbconvert_exporter": "python",
   "pygments_lexer": "ipython3",
   "version": "3.10.9"
  }
 },
 "nbformat": 4,
 "nbformat_minor": 1
}
